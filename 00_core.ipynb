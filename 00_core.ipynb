{
 "cells": [
  {
   "cell_type": "code",
   "execution_count": 1,
   "metadata": {},
   "outputs": [],
   "source": [
    "# default_exp core"
   ]
  },
  {
   "cell_type": "markdown",
   "metadata": {},
   "source": [
    "# 42AI Machine Learning Bootcamp\n",
    "\n",
    "> API details."
   ]
  },
  {
   "cell_type": "code",
   "execution_count": 2,
   "metadata": {},
   "outputs": [],
   "source": [
    "import numpy as np"
   ]
  },
  {
   "cell_type": "code",
   "execution_count": 3,
   "metadata": {},
   "outputs": [],
   "source": [
    "def sum_(x, f):\n",
    "    if not isinstance(x, np.ndarray) or x.size == 0 or x.ndim != 1 or not callable(f):\n",
    "        return None\n",
    "    result = 0.0\n",
    "    for element in x:\n",
    "        result += f(element)\n",
    "    return result"
   ]
  },
  {
   "cell_type": "code",
   "execution_count": 4,
   "metadata": {},
   "outputs": [
    {
     "name": "stdout",
     "output_type": "stream",
     "text": [
      "7.0\n",
      "949.0\n",
      "7.0\n",
      "949.0\n",
      "7.0\n",
      "949.0\n"
     ]
    }
   ],
   "source": [
    "# Sum\n",
    "x = np.array([0, 15, -9, 7, 12, 3, -21])\n",
    "print(sum_(x, lambda x: x))\n",
    "print(sum_(x, lambda x: x**2))"
   ]
  },
  {
   "cell_type": "code",
   "execution_count": 5,
   "metadata": {},
   "outputs": [],
   "source": [
    "def mean_(x):\n",
    "    if not isinstance(x, np.ndarray) or x.size == 0 or x.ndim != 1:\n",
    "        return None\n",
    "    return sum_(x, lambda x: x) / x.size"
   ]
  },
  {
   "cell_type": "code",
   "execution_count": 6,
   "metadata": {},
   "outputs": [
    {
     "name": "stdout",
     "output_type": "stream",
     "text": [
      "1.0\n",
      "135.57142857142858\n",
      "1.0\n",
      "135.57142857142858\n",
      "1.0\n",
      "135.57142857142858\n"
     ]
    }
   ],
   "source": [
    "# Mean\n",
    "x = np.array([0, 15, -9, 7, 12, 3, -21])\n",
    "print(mean_(x))\n",
    "print(mean_(x ** 2))"
   ]
  },
  {
   "cell_type": "code",
   "execution_count": 7,
   "metadata": {},
   "outputs": [],
   "source": [
    "def variance(x):\n",
    "    if not isinstance(x, np.ndarray) or x.size == 0 or x.ndim != 1:\n",
    "        return None\n",
    "    return mean_((x - mean_(x))**2)"
   ]
  },
  {
   "cell_type": "code",
   "execution_count": 8,
   "metadata": {},
   "outputs": [
    {
     "name": "stdout",
     "output_type": "stream",
     "text": [
      "134.57142857142858\n",
      "134.57142857142858\n",
      "33.642857142857146\n",
      "33.642857142857146\n",
      "134.57142857142858\n",
      "134.57142857142858\n",
      "33.642857142857146\n",
      "33.642857142857146\n",
      "134.57142857142858\n",
      "134.57142857142858\n",
      "33.642857142857146\n",
      "33.642857142857146\n"
     ]
    }
   ],
   "source": [
    "# Variance\n",
    "x = np.array([0, 15, -9, 7, 12, 3, -21])\n",
    "print(variance(x))\n",
    "print(np.var(x))\n",
    "\n",
    "print(variance(x/2))\n",
    "print(np.var(x/2))"
   ]
  },
  {
   "cell_type": "code",
   "execution_count": 9,
   "metadata": {},
   "outputs": [],
   "source": [
    "from math import sqrt\n",
    "\n",
    "\n",
    "def std(x):\n",
    "    if not isinstance(x, np.ndarray) or x.size == 0 or x.ndim != 1:\n",
    "        return None\n",
    "    return sqrt((variance(x)))"
   ]
  },
  {
   "cell_type": "code",
   "execution_count": 10,
   "metadata": {},
   "outputs": [
    {
     "name": "stdout",
     "output_type": "stream",
     "text": [
      "11.600492600378166\n",
      "11.600492600378166\n",
      "11.410700312980492\n",
      "11.410700312980492\n",
      "11.600492600378166\n",
      "11.600492600378166\n",
      "11.410700312980492\n",
      "11.410700312980492\n",
      "11.600492600378166\n",
      "11.600492600378166\n",
      "11.410700312980492\n",
      "11.410700312980492\n"
     ]
    }
   ],
   "source": [
    "# Standard deviation\n",
    "x = np.array([0, 15, -9, 7, 12, 3, -21])\n",
    "y = np.array([2, 14, -13, 5, 12, 4, -19])\n",
    "\n",
    "print(std(x))\n",
    "print(np.std(x))\n",
    "\n",
    "print(std(y))\n",
    "print(np.std(y))"
   ]
  },
  {
   "cell_type": "code",
   "execution_count": 11,
   "metadata": {},
   "outputs": [],
   "source": [
    "def dot(x, y):\n",
    "    if (not isinstance(x, np.ndarray) or not isinstance(y, np.ndarray) or x.size == 0 \n",
    "        or y.size == 0 or x.size != y.size or x.ndim != 1 or y.ndim != 1):\n",
    "        print(\"Error: dot\")\n",
    "        return None\n",
    "    result = 0\n",
    "    for i in range(x.size):\n",
    "        result += x[i] * y[i]\n",
    "    return result"
   ]
  },
  {
   "cell_type": "code",
   "execution_count": 12,
   "metadata": {},
   "outputs": [
    {
     "name": "stdout",
     "output_type": "stream",
     "text": [
      "917\n",
      "917\n",
      "949\n",
      "949\n",
      "915\n",
      "915\n",
      "917\n",
      "917\n",
      "949\n",
      "949\n",
      "915\n",
      "915\n",
      "917\n",
      "917\n",
      "949\n",
      "949\n",
      "915\n",
      "915\n"
     ]
    }
   ],
   "source": [
    "# Dot product\n",
    "x = np.array([0, 15, -9, 7, 12, 3, -21])\n",
    "y = np.array([2, 14, -13, 5, 12, 4, -19])\n",
    "\n",
    "print(dot(x, y))\n",
    "print(np.dot(x, y))\n",
    "\n",
    "print(dot(x, x))\n",
    "print(np.dot(x, x))\n",
    "\n",
    "print(dot(y, y))\n",
    "print(np.dot(y, y))"
   ]
  },
  {
   "cell_type": "code",
   "execution_count": 13,
   "metadata": {},
   "outputs": [],
   "source": [
    "def mat_vec_prod(m, x):\n",
    "    if (not isinstance(m, np.ndarray) or not isinstance(x, np.ndarray) or\n",
    "            m.size == 0 or m.shape[1] != x.size):\n",
    "        print(\"Error: mat_vec_prod\")\n",
    "        return None\n",
    "    result = np.array([], dtype='int')\n",
    "    for row in m:\n",
    "        result = np.append(result, dot(x, row))\n",
    "    return result.reshape((m.shape[0], 1))"
   ]
  },
  {
   "cell_type": "code",
   "execution_count": 14,
   "metadata": {},
   "outputs": [
    {
     "name": "stdout",
     "output_type": "stream",
     "text": [
      "Error: dot\n",
      "Error: dot\n",
      "Error: dot\n",
      "Error: dot\n",
      "Error: dot\n",
      "[[None]\n",
      " [None]\n",
      " [None]\n",
      " [None]\n",
      " [None]]\n",
      "[[ 497]\n",
      " [-356]\n",
      " [-345]\n",
      " [-270]\n",
      " [ -69]]\n",
      "Error: dot\n",
      "Error: dot\n",
      "Error: dot\n",
      "Error: dot\n",
      "Error: dot\n",
      "[[None]\n",
      " [None]\n",
      " [None]\n",
      " [None]\n",
      " [None]]\n",
      "[[ 452]\n",
      " [-285]\n",
      " [-333]\n",
      " [-182]\n",
      " [-133]]\n",
      "Error: dot\n",
      "Error: dot\n",
      "Error: dot\n",
      "Error: dot\n",
      "Error: dot\n",
      "[[None]\n",
      " [None]\n",
      " [None]\n",
      " [None]\n",
      " [None]]\n",
      "[[ 497]\n",
      " [-356]\n",
      " [-345]\n",
      " [-270]\n",
      " [ -69]]\n",
      "Error: dot\n",
      "Error: dot\n",
      "Error: dot\n",
      "Error: dot\n",
      "Error: dot\n",
      "[[None]\n",
      " [None]\n",
      " [None]\n",
      " [None]\n",
      " [None]]\n",
      "[[ 452]\n",
      " [-285]\n",
      " [-333]\n",
      " [-182]\n",
      " [-133]]\n",
      "Error: dot\n",
      "Error: dot\n",
      "Error: dot\n",
      "Error: dot\n",
      "Error: dot\n",
      "[[None]\n",
      " [None]\n",
      " [None]\n",
      " [None]\n",
      " [None]]\n",
      "[[ 497]\n",
      " [-356]\n",
      " [-345]\n",
      " [-270]\n",
      " [ -69]]\n",
      "Error: dot\n",
      "Error: dot\n",
      "Error: dot\n",
      "Error: dot\n",
      "Error: dot\n",
      "[[None]\n",
      " [None]\n",
      " [None]\n",
      " [None]\n",
      " [None]]\n",
      "[[ 452]\n",
      " [-285]\n",
      " [-333]\n",
      " [-182]\n",
      " [-133]]\n"
     ]
    }
   ],
   "source": [
    "# Matrix-vector product\n",
    "m = np.array([\n",
    "    [-8, 8, -6, 14, 14, -9, -4],\n",
    "    [2, -11, -2, -11, 14, -2, 14],\n",
    "    [-13, -2, -5, 3, -8, -4, 13],\n",
    "    [2, 13, -14, -15, -14, -15, 13],\n",
    "    [2, -1, 12, 3, -7, -3, -6]])\n",
    "x = np.array([0, 15, -9, 7, 12, 3, -21]).reshape((7, 1))\n",
    "y = np.array([2, 14, -13, 5, 12, 4, -19]).reshape((7, 1))\n",
    "\n",
    "print(mat_vec_prod(m, x))\n",
    "print(m.dot(x))\n",
    "\n",
    "print(mat_vec_prod(m, y))\n",
    "print(m.dot(y))"
   ]
  },
  {
   "cell_type": "code",
   "execution_count": 15,
   "metadata": {},
   "outputs": [],
   "source": [
    "def mat_mat_prod(m1, m2):\n",
    "    if (not isinstance(m1, np.ndarray) or not isinstance(m2, np.ndarray) or\n",
    "            m1.size == 0 or m1.shape[1] != m2.shape[0]):\n",
    "        return None\n",
    "    result = np.zeros((m1.shape[0], m2.shape[1]), dtype='int')\n",
    "    for column in range(m2.shape[1]):\n",
    "        result[:, column] = list(mat_vec_prod(m1, np.array(m2[:, column])))\n",
    "    return result"
   ]
  },
  {
   "cell_type": "code",
   "execution_count": 16,
   "metadata": {},
   "outputs": [
    {
     "name": "stdout",
     "output_type": "stream",
     "text": [
      "[[  45  414   -3 -202 -163]\n",
      " [-294 -244 -367  -79   62]\n",
      " [-107  140   13 -115  385]\n",
      " [-302  222 -302 -412  447]\n",
      " [ 108  -33  118   79  -67]]\n",
      "[[  45  414   -3 -202 -163]\n",
      " [-294 -244 -367  -79   62]\n",
      " [-107  140   13 -115  385]\n",
      " [-302  222 -302 -412  447]\n",
      " [ 108  -33  118   79  -67]]\n",
      "[[ 148   78 -116 -226  -76    7   45]\n",
      " [ -88 -108  -30  174  364  109  -42]\n",
      " [-126  232 -186  184  -51  -42  -92]\n",
      " [ -81  -49 -227 -208  112 -176  390]\n",
      " [  70    3  -60   13  162  149 -110]\n",
      " [-207  371 -323  106 -261 -248   83]\n",
      " [ 200  -53  226  -49 -102  156 -225]]\n",
      "[[ 148   78 -116 -226  -76    7   45]\n",
      " [ -88 -108  -30  174  364  109  -42]\n",
      " [-126  232 -186  184  -51  -42  -92]\n",
      " [ -81  -49 -227 -208  112 -176  390]\n",
      " [  70    3  -60   13  162  149 -110]\n",
      " [-207  371 -323  106 -261 -248   83]\n",
      " [ 200  -53  226  -49 -102  156 -225]]\n",
      "[[  45  414   -3 -202 -163]\n",
      " [-294 -244 -367  -79   62]\n",
      " [-107  140   13 -115  385]\n",
      " [-302  222 -302 -412  447]\n",
      " [ 108  -33  118   79  -67]]\n",
      "[[  45  414   -3 -202 -163]\n",
      " [-294 -244 -367  -79   62]\n",
      " [-107  140   13 -115  385]\n",
      " [-302  222 -302 -412  447]\n",
      " [ 108  -33  118   79  -67]]\n",
      "[[ 148   78 -116 -226  -76    7   45]\n",
      " [ -88 -108  -30  174  364  109  -42]\n",
      " [-126  232 -186  184  -51  -42  -92]\n",
      " [ -81  -49 -227 -208  112 -176  390]\n",
      " [  70    3  -60   13  162  149 -110]\n",
      " [-207  371 -323  106 -261 -248   83]\n",
      " [ 200  -53  226  -49 -102  156 -225]]\n",
      "[[ 148   78 -116 -226  -76    7   45]\n",
      " [ -88 -108  -30  174  364  109  -42]\n",
      " [-126  232 -186  184  -51  -42  -92]\n",
      " [ -81  -49 -227 -208  112 -176  390]\n",
      " [  70    3  -60   13  162  149 -110]\n",
      " [-207  371 -323  106 -261 -248   83]\n",
      " [ 200  -53  226  -49 -102  156 -225]]\n",
      "[[  45  414   -3 -202 -163]\n",
      " [-294 -244 -367  -79   62]\n",
      " [-107  140   13 -115  385]\n",
      " [-302  222 -302 -412  447]\n",
      " [ 108  -33  118   79  -67]]\n",
      "[[  45  414   -3 -202 -163]\n",
      " [-294 -244 -367  -79   62]\n",
      " [-107  140   13 -115  385]\n",
      " [-302  222 -302 -412  447]\n",
      " [ 108  -33  118   79  -67]]\n",
      "[[ 148   78 -116 -226  -76    7   45]\n",
      " [ -88 -108  -30  174  364  109  -42]\n",
      " [-126  232 -186  184  -51  -42  -92]\n",
      " [ -81  -49 -227 -208  112 -176  390]\n",
      " [  70    3  -60   13  162  149 -110]\n",
      " [-207  371 -323  106 -261 -248   83]\n",
      " [ 200  -53  226  -49 -102  156 -225]]\n",
      "[[ 148   78 -116 -226  -76    7   45]\n",
      " [ -88 -108  -30  174  364  109  -42]\n",
      " [-126  232 -186  184  -51  -42  -92]\n",
      " [ -81  -49 -227 -208  112 -176  390]\n",
      " [  70    3  -60   13  162  149 -110]\n",
      " [-207  371 -323  106 -261 -248   83]\n",
      " [ 200  -53  226  -49 -102  156 -225]]\n"
     ]
    }
   ],
   "source": [
    "# Matrix-matrix product\n",
    "m1 = np.array([\n",
    "    [-8, 8, -6, 14, 14, -9, -4],\n",
    "    [2, -11, -2, -11, 14, -2, 14],\n",
    "    [-13, -2, -5, 3, -8, -4, 13],\n",
    "    [2, 13, -14, -15, -14, -15, 13],\n",
    "    [2, -1, 12, 3, -7, -3, -6]])\n",
    "Z = np.array([\n",
    "    [-6, -1, -8, 7, -8],\n",
    "    [7, 4, 0, -10, -10],\n",
    "    [7, -13, 2, 2, -11],\n",
    "    [3, 14, 7, 7, -4],\n",
    "    [-1, -3, -8, -4, -14],\n",
    "    [9, -14, 9, 12, -7],\n",
    "    [-9, -4, -10, -3, 6]])\n",
    "print(mat_mat_prod(m1, m2))\n",
    "print(m1.dot(m2))\n",
    "print(mat_mat_prod(m2, m1))\n",
    "print(m2.dot(m1))"
   ]
  },
  {
   "cell_type": "code",
   "execution_count": 17,
   "metadata": {},
   "outputs": [],
   "source": [
    "def mse(x, y):\n",
    "    if (not isinstance(x, np.ndarray) or not isinstance(y, np.ndarray) or\n",
    "            x.size == 0 or y.size == 0 or x.shape[0] != y.shape[0] or\n",
    "            x.ndim != 1 or y.ndim != 1):\n",
    "        return None\n",
    "    return mean_(np.subtract(x, y)**2)"
   ]
  },
  {
   "cell_type": "code",
   "execution_count": 18,
   "metadata": {},
   "outputs": [
    {
     "name": "stdout",
     "output_type": "stream",
     "text": [
      "4.285714285714286\n",
      "0.0\n",
      "4.285714285714286\n",
      "0.0\n",
      "4.285714285714286\n",
      "0.0\n"
     ]
    }
   ],
   "source": [
    "# Mean squared error\n",
    "x = np.array([0, 15, -9, 7, 12, 3, -21])\n",
    "y = np.array([2, 14, -13, 5, 12, 4, -19])\n",
    "print(mse(x, y))\n",
    "print(mse(x, x))"
   ]
  },
  {
   "cell_type": "code",
   "execution_count": 19,
   "metadata": {},
   "outputs": [],
   "source": [
    "def vec_mse(y, y_hat):\n",
    "    if (not isinstance(y, np.ndarray)\n",
    "            or not isinstance(y_hat, np.ndarray)\n",
    "            or y.size == 0 or y_hat.size == 0\n",
    "            or y.shape[0] != y_hat.shape[0]\n",
    "            or y.size != y_hat.size):\n",
    "        return None\n",
    "    return dot(np.subtract(y_hat, y), np.subtract(y_hat, y)) / y.size"
   ]
  },
  {
   "cell_type": "code",
   "execution_count": 20,
   "metadata": {},
   "outputs": [
    {
     "name": "stdout",
     "output_type": "stream",
     "text": [
      "4.285714285714286\n",
      "0.0\n",
      "4.285714285714286\n",
      "0.0\n",
      "4.285714285714286\n",
      "0.0\n"
     ]
    }
   ],
   "source": [
    "# Vectorized Mean Squared Error\n",
    "print(vec_mse(X, Y))\n",
    "print(vec_mse(X, X))"
   ]
  },
  {
   "cell_type": "code",
   "execution_count": 21,
   "metadata": {},
   "outputs": [],
   "source": [
    "def linear_mse(x, y, theta):\n",
    "    if (not isinstance(x, np.ndarray) or not isinstance(y, np.ndarray)\n",
    "            or not isinstance(theta, np.ndarray) or x.size == 0 or y.size == 0\n",
    "            or theta.size == 0 or len(y.shape) != 1 or len(theta.shape) != 1\n",
    "            or x.shape[0] != y.size or x.shape[1] != theta.size):\n",
    "        return None\n",
    "    result = 0.0\n",
    "    h = np.zeros(x.shape[0])\n",
    "    for row in range(x.shape[0]):\n",
    "        h[row] = dot(x[row], theta)\n",
    "    return mse(y, h)"
   ]
  },
  {
   "cell_type": "code",
   "execution_count": 22,
   "metadata": {},
   "outputs": [
    {
     "name": "stdout",
     "output_type": "stream",
     "text": [
      "2641.0\n",
      "130.71428571428572\n",
      "2641.0\n",
      "130.71428571428572\n",
      "2641.0\n",
      "130.71428571428572\n"
     ]
    }
   ],
   "source": [
    "# Mean squared error as linear cost function\n",
    "X = np.array([\n",
    "    [-6, -7, -9],\n",
    "    [13, -2, 14],\n",
    "    [-7, 14, -1],\n",
    "    [-8, -4, 6],\n",
    "    [-5, -9, 6],\n",
    "    [1, -5, 11],\n",
    "    [9, -11, 8]])\n",
    "Y = np.array([2, 14, -13, 5, 12, 4, -19])\n",
    "Z = np.array([3, 0.5, -6])\n",
    "W = np.array([0, 0, 0])\n",
    "\n",
    "print(linear_mse(X, Y, Z))\n",
    "print(linear_mse(X, Y, W))"
   ]
  },
  {
   "cell_type": "code",
   "execution_count": 23,
   "metadata": {},
   "outputs": [],
   "source": [
    "def vec_linear_mse(x, y, theta):\n",
    "    if (not isinstance(x, np.ndarray) or not isinstance(y, np.ndarray)\n",
    "            or not isinstance(theta, np.ndarray) or x.size == 0 or y.size == 0\n",
    "            or theta.size == 0 or len(y.shape) != 1 or len(theta.shape) != 1\n",
    "            or x.shape[0] != y.size or x.shape[1] != theta.size):\n",
    "        return None\n",
    "    h = np.zeros(x.shape[0])\n",
    "    for row in range(x.shape[0]):\n",
    "        h[row] = dot(x[row], theta)\n",
    "    return dot(np.subtract(y, h), np.subtract(y, h)) / y.size"
   ]
  },
  {
   "cell_type": "code",
   "execution_count": 24,
   "metadata": {},
   "outputs": [
    {
     "name": "stdout",
     "output_type": "stream",
     "text": [
      "2641.0\n",
      "130.71428571428572\n",
      "2641.0\n",
      "130.71428571428572\n",
      "2641.0\n",
      "130.71428571428572\n"
     ]
    }
   ],
   "source": [
    "# Vectorized Mean squared error as linear cost function\n",
    "print(vec_linear_mse(X, Y, Z))\n",
    "print(vec_linear_mse(X, Y, W))"
   ]
  },
  {
   "cell_type": "code",
   "execution_count": 25,
   "metadata": {},
   "outputs": [],
   "source": [
    "def gradient(x, y, theta):\n",
    "    if (not isinstance(x, np.ndarray) or not isinstance(y, np.ndarray)\n",
    "            or not isinstance(theta, np.ndarray) or x.size == 0 or y.size == 0\n",
    "            or theta.size == 0 or len(y.shape) != 1 or len(theta.shape) != 1\n",
    "            or x.shape[0] != y.size or x.shape[1] != theta.size):\n",
    "        return None\n",
    "    h = np.zeros(x.shape[0])\n",
    "    for row in range(x.shape[0]):\n",
    "        h[row] = dot(x[row], theta)\n",
    "    result = np.zeros(x.shape[1])\n",
    "    for column in range(x.shape[1]):\n",
    "        for row in range(x.shape[0]):\n",
    "            result[column] += (h[row] - y[row]) * x[row][column] / x.shape[0]\n",
    "    return result"
   ]
  },
  {
   "cell_type": "code",
   "execution_count": 26,
   "metadata": {},
   "outputs": [
    {
     "name": "stdout",
     "output_type": "stream",
     "text": [
      "[ -37.35714286  183.14285714 -393.        ]\n",
      "[  0.85714286  23.28571429 -26.42857143]\n",
      "[0. 0. 0.]\n",
      "[ -37.35714286  183.14285714 -393.        ]\n",
      "[  0.85714286  23.28571429 -26.42857143]\n",
      "[0. 0. 0.]\n",
      "[ -37.35714286  183.14285714 -393.        ]\n",
      "[  0.85714286  23.28571429 -26.42857143]\n",
      "[0. 0. 0.]\n"
     ]
    }
   ],
   "source": [
    "# Linear Gradient - iterative version\n",
    "print(gradient(X, Y, Z))\n",
    "print(gradient(X, Y, W))\n",
    "print(gradient(X, X.dot(Z), Z))"
   ]
  },
  {
   "cell_type": "code",
   "execution_count": 27,
   "metadata": {},
   "outputs": [],
   "source": [
    "def vec_gradient(x, y, theta):\n",
    "    if (not isinstance(x, np.ndarray) or not isinstance(y, np.ndarray)\n",
    "            or not isinstance(theta, np.ndarray) or x.size == 0 or y.size == 0\n",
    "            or theta.size == 0 or y.ndim != 1 or theta.ndim != 1\n",
    "            or x.shape[0] != y.size or x.shape[1] != theta.size):\n",
    "        return None\n",
    "    h = np.zeros(x.shape[0])\n",
    "    for row in range(x.shape[0]):\n",
    "        h[row] = dot(x[row], theta)\n",
    "    result = mat_vec_prod(x.transpose(), np.subtract(h, y)) / x.shape[0]\n",
    "    return result.reshape(1, x.shape[1])"
   ]
  },
  {
   "cell_type": "code",
   "execution_count": 28,
   "metadata": {},
   "outputs": [
    {
     "name": "stdout",
     "output_type": "stream",
     "text": [
      "[[ -37.35714286  183.14285714 -393.        ]][[ -37.35714286  183.14285714 -393.        ]][[ -37.35714286  183.14285714 -393.        ]]\n",
      "[[  0.85714286  23.28571429 -26.42857143]]\n",
      "[[0. 0. 0.]]\n",
      "\n",
      "[[  0.85714286  23.28571429 -26.42857143]]\n",
      "[[0. 0. 0.]]\n",
      "\n",
      "[[  0.85714286  23.28571429 -26.42857143]]\n",
      "[[0. 0. 0.]]\n"
     ]
    }
   ],
   "source": [
    "# Linear Gradient - vectorized version\n",
    "print(vec_gradient(X, Y, Z))\n",
    "print(vec_gradient(X, Y, W))\n",
    "print(vec_gradient(X, X.dot(Z), Z))"
   ]
  },
  {
   "cell_type": "code",
   "execution_count": 29,
   "metadata": {},
   "outputs": [],
   "source": [
    "def predict_(theta, X):\n",
    "    if (not isinstance(X, np.ndarray) or not isinstance(theta, np.ndarray)\n",
    "            or X.size == 0 or theta.size == 0 or theta.ndim != 1):\n",
    "        return None\n",
    "    if theta.shape[0] - 1 != X.shape[1]:\n",
    "        print(\"Incompatible dimension match between X and theta.\")\n",
    "        return None\n",
    "    X = np.insert(X, 0, 1, axis=1)\n",
    "    return mat_vec_prod(X, theta)"
   ]
  },
  {
   "cell_type": "code",
   "execution_count": 30,
   "metadata": {},
   "outputs": [
    {
     "name": "stdout",
     "output_type": "stream",
     "text": [
      "None\n",
      "None\n",
      "None\n",
      "None\n",
      "None\n",
      "None\n",
      "None\n",
      "None\n",
      "None\n"
     ]
    }
   ],
   "source": [
    "# Hypothesis function\n",
    "X1 = np.array([[0.], [1.], [2.], [3.], [4.]])\n",
    "theta1 = np.array([[2.], [4.]])\n",
    "print(predict_(theta1, X1))\n",
    "X2 = np.array([[1], [2], [3], [5], [8]])\n",
    "theta2 = np.array([[2.]])\n",
    "print(predict_(theta2, X2))\n",
    "X3 = np.array([[0.2, 2., 20.], [0.4, 4., 40.], [0.6, 6., 60.], [0.8, 8., 80.]])\n",
    "theta3 = np.array([[0.05], [1.], [1.], [1.]])\n",
    "print(predict_(theta3, X3))"
   ]
  },
  {
   "cell_type": "code",
   "execution_count": 31,
   "metadata": {},
   "outputs": [],
   "source": [
    "def cost_elem_(theta, X, Y):\n",
    "    if (not isinstance(X, np.ndarray) or not isinstance(theta, np.ndarray)\n",
    "            or X.size == 0 or theta.size == 0 or theta.ndim != 1):\n",
    "        return None\n",
    "    M = X.shape[0]\n",
    "    J_elem = np.zeros((M, 1))\n",
    "    for i in range(len(J_elem)):\n",
    "        J_elem[i] = (1/(2*M))*((np.subtract(predict_(theta, X), Y)[i])**2)\n",
    "    return J_elem\n",
    "\n",
    "def cost_(theta, X, Y):\n",
    "    M = X.shape[0]\n",
    "    J_elem = np.zeros((M, 1))\n",
    "    for i in range(len(J_elem)):\n",
    "        J_elem[i] = (1/(2*M))*((np.subtract(predict_(theta, X), Y)[i])**2)\n",
    "    J_value = 0.0\n",
    "    return J_value"
   ]
  },
  {
   "cell_type": "code",
   "execution_count": 32,
   "metadata": {},
   "outputs": [
    {
     "name": "stdout",
     "output_type": "stream",
     "text": [
      "None\n",
      "None\n",
      "None\n"
     ]
    },
    {
     "ename": "TypeError",
     "evalue": "unsupported operand type(s) for -: 'NoneType' and 'float'",
     "output_type": "error",
     "traceback": [
      "\u001b[0;31m---------------------------------------------------------------------------\u001b[0m",
      "\u001b[0;31mTypeError\u001b[0m                                 Traceback (most recent call last)",
      "\u001b[0;32m<ipython-input-32-e91a93e0ecfa>\u001b[0m in \u001b[0;36m<module>\u001b[0;34m\u001b[0m\n\u001b[1;32m      4\u001b[0m \u001b[0mY1\u001b[0m \u001b[0;34m=\u001b[0m \u001b[0mnp\u001b[0m\u001b[0;34m.\u001b[0m\u001b[0marray\u001b[0m\u001b[0;34m(\u001b[0m\u001b[0;34m[\u001b[0m\u001b[0;34m[\u001b[0m\u001b[0;36m2.\u001b[0m\u001b[0;34m]\u001b[0m\u001b[0;34m,\u001b[0m \u001b[0;34m[\u001b[0m\u001b[0;36m7.\u001b[0m\u001b[0;34m]\u001b[0m\u001b[0;34m,\u001b[0m \u001b[0;34m[\u001b[0m\u001b[0;36m12.\u001b[0m\u001b[0;34m]\u001b[0m\u001b[0;34m,\u001b[0m \u001b[0;34m[\u001b[0m\u001b[0;36m17.\u001b[0m\u001b[0;34m]\u001b[0m\u001b[0;34m,\u001b[0m \u001b[0;34m[\u001b[0m\u001b[0;36m22.\u001b[0m\u001b[0;34m]\u001b[0m\u001b[0;34m]\u001b[0m\u001b[0;34m)\u001b[0m\u001b[0;34m\u001b[0m\u001b[0;34m\u001b[0m\u001b[0m\n\u001b[1;32m      5\u001b[0m \u001b[0mprint\u001b[0m\u001b[0;34m(\u001b[0m\u001b[0mcost_elem_\u001b[0m\u001b[0;34m(\u001b[0m\u001b[0mtheta1\u001b[0m\u001b[0;34m,\u001b[0m \u001b[0mX1\u001b[0m\u001b[0;34m,\u001b[0m \u001b[0mY1\u001b[0m\u001b[0;34m)\u001b[0m\u001b[0;34m)\u001b[0m\u001b[0;34m\u001b[0m\u001b[0;34m\u001b[0m\u001b[0m\n\u001b[0;32m----> 6\u001b[0;31m \u001b[0mprint\u001b[0m\u001b[0;34m(\u001b[0m\u001b[0mcost_\u001b[0m\u001b[0;34m(\u001b[0m\u001b[0mtheta1\u001b[0m\u001b[0;34m,\u001b[0m \u001b[0mX1\u001b[0m\u001b[0;34m,\u001b[0m \u001b[0mY1\u001b[0m\u001b[0;34m)\u001b[0m\u001b[0;34m)\u001b[0m\u001b[0;34m\u001b[0m\u001b[0;34m\u001b[0m\u001b[0m\n\u001b[0m\u001b[1;32m      7\u001b[0m \u001b[0mX2\u001b[0m \u001b[0;34m=\u001b[0m \u001b[0mnp\u001b[0m\u001b[0;34m.\u001b[0m\u001b[0marray\u001b[0m\u001b[0;34m(\u001b[0m\u001b[0;34m[\u001b[0m\u001b[0;34m[\u001b[0m\u001b[0;36m0.2\u001b[0m\u001b[0;34m,\u001b[0m \u001b[0;36m2.\u001b[0m\u001b[0;34m,\u001b[0m \u001b[0;36m20.\u001b[0m\u001b[0;34m]\u001b[0m\u001b[0;34m,\u001b[0m \u001b[0;34m[\u001b[0m\u001b[0;36m0.4\u001b[0m\u001b[0;34m,\u001b[0m \u001b[0;36m4.\u001b[0m\u001b[0;34m,\u001b[0m \u001b[0;36m40.\u001b[0m\u001b[0;34m]\u001b[0m\u001b[0;34m,\u001b[0m \u001b[0;34m[\u001b[0m\u001b[0;36m0.6\u001b[0m\u001b[0;34m,\u001b[0m \u001b[0;36m6.\u001b[0m\u001b[0;34m,\u001b[0m \u001b[0;36m60.\u001b[0m\u001b[0;34m]\u001b[0m\u001b[0;34m,\u001b[0m \u001b[0;34m[\u001b[0m\u001b[0;36m0.8\u001b[0m\u001b[0;34m,\u001b[0m \u001b[0;36m8.\u001b[0m\u001b[0;34m,\u001b[0m \u001b[0;36m80.\u001b[0m\u001b[0;34m]\u001b[0m\u001b[0;34m]\u001b[0m\u001b[0;34m)\u001b[0m\u001b[0;34m\u001b[0m\u001b[0;34m\u001b[0m\u001b[0m\n\u001b[1;32m      8\u001b[0m \u001b[0mtheta2\u001b[0m \u001b[0;34m=\u001b[0m \u001b[0mnp\u001b[0m\u001b[0;34m.\u001b[0m\u001b[0marray\u001b[0m\u001b[0;34m(\u001b[0m\u001b[0;34m[\u001b[0m\u001b[0;34m[\u001b[0m\u001b[0;36m0.05\u001b[0m\u001b[0;34m]\u001b[0m\u001b[0;34m,\u001b[0m \u001b[0;34m[\u001b[0m\u001b[0;36m1.\u001b[0m\u001b[0;34m]\u001b[0m\u001b[0;34m,\u001b[0m \u001b[0;34m[\u001b[0m\u001b[0;36m1.\u001b[0m\u001b[0;34m]\u001b[0m\u001b[0;34m,\u001b[0m \u001b[0;34m[\u001b[0m\u001b[0;36m1.\u001b[0m\u001b[0;34m]\u001b[0m\u001b[0;34m]\u001b[0m\u001b[0;34m)\u001b[0m\u001b[0;34m\u001b[0m\u001b[0;34m\u001b[0m\u001b[0m\n",
      "\u001b[0;32m<ipython-input-31-488b28341392>\u001b[0m in \u001b[0;36mcost_\u001b[0;34m(theta, X, Y)\u001b[0m\n\u001b[1;32m     13\u001b[0m     \u001b[0mJ_elem\u001b[0m \u001b[0;34m=\u001b[0m \u001b[0mnp\u001b[0m\u001b[0;34m.\u001b[0m\u001b[0mzeros\u001b[0m\u001b[0;34m(\u001b[0m\u001b[0;34m(\u001b[0m\u001b[0mM\u001b[0m\u001b[0;34m,\u001b[0m \u001b[0;36m1\u001b[0m\u001b[0;34m)\u001b[0m\u001b[0;34m)\u001b[0m\u001b[0;34m\u001b[0m\u001b[0;34m\u001b[0m\u001b[0m\n\u001b[1;32m     14\u001b[0m     \u001b[0;32mfor\u001b[0m \u001b[0mi\u001b[0m \u001b[0;32min\u001b[0m \u001b[0mrange\u001b[0m\u001b[0;34m(\u001b[0m\u001b[0mlen\u001b[0m\u001b[0;34m(\u001b[0m\u001b[0mJ_elem\u001b[0m\u001b[0;34m)\u001b[0m\u001b[0;34m)\u001b[0m\u001b[0;34m:\u001b[0m\u001b[0;34m\u001b[0m\u001b[0;34m\u001b[0m\u001b[0m\n\u001b[0;32m---> 15\u001b[0;31m         \u001b[0mJ_elem\u001b[0m\u001b[0;34m[\u001b[0m\u001b[0mi\u001b[0m\u001b[0;34m]\u001b[0m \u001b[0;34m=\u001b[0m \u001b[0;34m(\u001b[0m\u001b[0;36m1\u001b[0m\u001b[0;34m/\u001b[0m\u001b[0;34m(\u001b[0m\u001b[0;36m2\u001b[0m\u001b[0;34m*\u001b[0m\u001b[0mM\u001b[0m\u001b[0;34m)\u001b[0m\u001b[0;34m)\u001b[0m\u001b[0;34m*\u001b[0m\u001b[0;34m(\u001b[0m\u001b[0;34m(\u001b[0m\u001b[0mnp\u001b[0m\u001b[0;34m.\u001b[0m\u001b[0msubtract\u001b[0m\u001b[0;34m(\u001b[0m\u001b[0mpredict_\u001b[0m\u001b[0;34m(\u001b[0m\u001b[0mtheta\u001b[0m\u001b[0;34m,\u001b[0m \u001b[0mX\u001b[0m\u001b[0;34m)\u001b[0m\u001b[0;34m,\u001b[0m \u001b[0mY\u001b[0m\u001b[0;34m)\u001b[0m\u001b[0;34m[\u001b[0m\u001b[0mi\u001b[0m\u001b[0;34m]\u001b[0m\u001b[0;34m)\u001b[0m\u001b[0;34m**\u001b[0m\u001b[0;36m2\u001b[0m\u001b[0;34m)\u001b[0m\u001b[0;34m\u001b[0m\u001b[0;34m\u001b[0m\u001b[0m\n\u001b[0m\u001b[1;32m     16\u001b[0m     \u001b[0mJ_value\u001b[0m \u001b[0;34m=\u001b[0m \u001b[0;36m0.0\u001b[0m\u001b[0;34m\u001b[0m\u001b[0;34m\u001b[0m\u001b[0m\n\u001b[1;32m     17\u001b[0m     \u001b[0;32mreturn\u001b[0m \u001b[0mJ_value\u001b[0m\u001b[0;34m\u001b[0m\u001b[0;34m\u001b[0m\u001b[0m\n",
      "\u001b[0;31mTypeError\u001b[0m: unsupported operand type(s) for -: 'NoneType' and 'float'"
     ]
    },
    {
     "ename": "TypeError",
     "evalue": "unsupported operand type(s) for -: 'NoneType' and 'float'",
     "output_type": "error",
     "traceback": [
      "\u001b[0;31m---------------------------------------------------------------------------\u001b[0m",
      "\u001b[0;31mTypeError\u001b[0m                                 Traceback (most recent call last)",
      "\u001b[0;32m<ipython-input-32-e91a93e0ecfa>\u001b[0m in \u001b[0;36m<module>\u001b[0;34m\u001b[0m\n\u001b[1;32m      4\u001b[0m \u001b[0mY1\u001b[0m \u001b[0;34m=\u001b[0m \u001b[0mnp\u001b[0m\u001b[0;34m.\u001b[0m\u001b[0marray\u001b[0m\u001b[0;34m(\u001b[0m\u001b[0;34m[\u001b[0m\u001b[0;34m[\u001b[0m\u001b[0;36m2.\u001b[0m\u001b[0;34m]\u001b[0m\u001b[0;34m,\u001b[0m \u001b[0;34m[\u001b[0m\u001b[0;36m7.\u001b[0m\u001b[0;34m]\u001b[0m\u001b[0;34m,\u001b[0m \u001b[0;34m[\u001b[0m\u001b[0;36m12.\u001b[0m\u001b[0;34m]\u001b[0m\u001b[0;34m,\u001b[0m \u001b[0;34m[\u001b[0m\u001b[0;36m17.\u001b[0m\u001b[0;34m]\u001b[0m\u001b[0;34m,\u001b[0m \u001b[0;34m[\u001b[0m\u001b[0;36m22.\u001b[0m\u001b[0;34m]\u001b[0m\u001b[0;34m]\u001b[0m\u001b[0;34m)\u001b[0m\u001b[0;34m\u001b[0m\u001b[0;34m\u001b[0m\u001b[0m\n\u001b[1;32m      5\u001b[0m \u001b[0mprint\u001b[0m\u001b[0;34m(\u001b[0m\u001b[0mcost_elem_\u001b[0m\u001b[0;34m(\u001b[0m\u001b[0mtheta1\u001b[0m\u001b[0;34m,\u001b[0m \u001b[0mX1\u001b[0m\u001b[0;34m,\u001b[0m \u001b[0mY1\u001b[0m\u001b[0;34m)\u001b[0m\u001b[0;34m)\u001b[0m\u001b[0;34m\u001b[0m\u001b[0;34m\u001b[0m\u001b[0m\n\u001b[0;32m----> 6\u001b[0;31m \u001b[0mprint\u001b[0m\u001b[0;34m(\u001b[0m\u001b[0mcost_\u001b[0m\u001b[0;34m(\u001b[0m\u001b[0mtheta1\u001b[0m\u001b[0;34m,\u001b[0m \u001b[0mX1\u001b[0m\u001b[0;34m,\u001b[0m \u001b[0mY1\u001b[0m\u001b[0;34m)\u001b[0m\u001b[0;34m)\u001b[0m\u001b[0;34m\u001b[0m\u001b[0;34m\u001b[0m\u001b[0m\n\u001b[0m\u001b[1;32m      7\u001b[0m \u001b[0mX2\u001b[0m \u001b[0;34m=\u001b[0m \u001b[0mnp\u001b[0m\u001b[0;34m.\u001b[0m\u001b[0marray\u001b[0m\u001b[0;34m(\u001b[0m\u001b[0;34m[\u001b[0m\u001b[0;34m[\u001b[0m\u001b[0;36m0.2\u001b[0m\u001b[0;34m,\u001b[0m \u001b[0;36m2.\u001b[0m\u001b[0;34m,\u001b[0m \u001b[0;36m20.\u001b[0m\u001b[0;34m]\u001b[0m\u001b[0;34m,\u001b[0m \u001b[0;34m[\u001b[0m\u001b[0;36m0.4\u001b[0m\u001b[0;34m,\u001b[0m \u001b[0;36m4.\u001b[0m\u001b[0;34m,\u001b[0m \u001b[0;36m40.\u001b[0m\u001b[0;34m]\u001b[0m\u001b[0;34m,\u001b[0m \u001b[0;34m[\u001b[0m\u001b[0;36m0.6\u001b[0m\u001b[0;34m,\u001b[0m \u001b[0;36m6.\u001b[0m\u001b[0;34m,\u001b[0m \u001b[0;36m60.\u001b[0m\u001b[0;34m]\u001b[0m\u001b[0;34m,\u001b[0m \u001b[0;34m[\u001b[0m\u001b[0;36m0.8\u001b[0m\u001b[0;34m,\u001b[0m \u001b[0;36m8.\u001b[0m\u001b[0;34m,\u001b[0m \u001b[0;36m80.\u001b[0m\u001b[0;34m]\u001b[0m\u001b[0;34m]\u001b[0m\u001b[0;34m)\u001b[0m\u001b[0;34m\u001b[0m\u001b[0;34m\u001b[0m\u001b[0m\n\u001b[1;32m      8\u001b[0m \u001b[0mtheta2\u001b[0m \u001b[0;34m=\u001b[0m \u001b[0mnp\u001b[0m\u001b[0;34m.\u001b[0m\u001b[0marray\u001b[0m\u001b[0;34m(\u001b[0m\u001b[0;34m[\u001b[0m\u001b[0;34m[\u001b[0m\u001b[0;36m0.05\u001b[0m\u001b[0;34m]\u001b[0m\u001b[0;34m,\u001b[0m \u001b[0;34m[\u001b[0m\u001b[0;36m1.\u001b[0m\u001b[0;34m]\u001b[0m\u001b[0;34m,\u001b[0m \u001b[0;34m[\u001b[0m\u001b[0;36m1.\u001b[0m\u001b[0;34m]\u001b[0m\u001b[0;34m,\u001b[0m \u001b[0;34m[\u001b[0m\u001b[0;36m1.\u001b[0m\u001b[0;34m]\u001b[0m\u001b[0;34m]\u001b[0m\u001b[0;34m)\u001b[0m\u001b[0;34m\u001b[0m\u001b[0;34m\u001b[0m\u001b[0m\n",
      "\u001b[0;32m<ipython-input-31-488b28341392>\u001b[0m in \u001b[0;36mcost_\u001b[0;34m(theta, X, Y)\u001b[0m\n\u001b[1;32m     13\u001b[0m     \u001b[0mJ_elem\u001b[0m \u001b[0;34m=\u001b[0m \u001b[0mnp\u001b[0m\u001b[0;34m.\u001b[0m\u001b[0mzeros\u001b[0m\u001b[0;34m(\u001b[0m\u001b[0;34m(\u001b[0m\u001b[0mM\u001b[0m\u001b[0;34m,\u001b[0m \u001b[0;36m1\u001b[0m\u001b[0;34m)\u001b[0m\u001b[0;34m)\u001b[0m\u001b[0;34m\u001b[0m\u001b[0;34m\u001b[0m\u001b[0m\n\u001b[1;32m     14\u001b[0m     \u001b[0;32mfor\u001b[0m \u001b[0mi\u001b[0m \u001b[0;32min\u001b[0m \u001b[0mrange\u001b[0m\u001b[0;34m(\u001b[0m\u001b[0mlen\u001b[0m\u001b[0;34m(\u001b[0m\u001b[0mJ_elem\u001b[0m\u001b[0;34m)\u001b[0m\u001b[0;34m)\u001b[0m\u001b[0;34m:\u001b[0m\u001b[0;34m\u001b[0m\u001b[0;34m\u001b[0m\u001b[0m\n\u001b[0;32m---> 15\u001b[0;31m         \u001b[0mJ_elem\u001b[0m\u001b[0;34m[\u001b[0m\u001b[0mi\u001b[0m\u001b[0;34m]\u001b[0m \u001b[0;34m=\u001b[0m \u001b[0;34m(\u001b[0m\u001b[0;36m1\u001b[0m\u001b[0;34m/\u001b[0m\u001b[0;34m(\u001b[0m\u001b[0;36m2\u001b[0m\u001b[0;34m*\u001b[0m\u001b[0mM\u001b[0m\u001b[0;34m)\u001b[0m\u001b[0;34m)\u001b[0m\u001b[0;34m*\u001b[0m\u001b[0;34m(\u001b[0m\u001b[0;34m(\u001b[0m\u001b[0mnp\u001b[0m\u001b[0;34m.\u001b[0m\u001b[0msubtract\u001b[0m\u001b[0;34m(\u001b[0m\u001b[0mpredict_\u001b[0m\u001b[0;34m(\u001b[0m\u001b[0mtheta\u001b[0m\u001b[0;34m,\u001b[0m \u001b[0mX\u001b[0m\u001b[0;34m)\u001b[0m\u001b[0;34m,\u001b[0m \u001b[0mY\u001b[0m\u001b[0;34m)\u001b[0m\u001b[0;34m[\u001b[0m\u001b[0mi\u001b[0m\u001b[0;34m]\u001b[0m\u001b[0;34m)\u001b[0m\u001b[0;34m**\u001b[0m\u001b[0;36m2\u001b[0m\u001b[0;34m)\u001b[0m\u001b[0;34m\u001b[0m\u001b[0;34m\u001b[0m\u001b[0m\n\u001b[0m\u001b[1;32m     16\u001b[0m     \u001b[0mJ_value\u001b[0m \u001b[0;34m=\u001b[0m \u001b[0;36m0.0\u001b[0m\u001b[0;34m\u001b[0m\u001b[0;34m\u001b[0m\u001b[0m\n\u001b[1;32m     17\u001b[0m     \u001b[0;32mreturn\u001b[0m \u001b[0mJ_value\u001b[0m\u001b[0;34m\u001b[0m\u001b[0;34m\u001b[0m\u001b[0m\n",
      "\u001b[0;31mTypeError\u001b[0m: unsupported operand type(s) for -: 'NoneType' and 'float'"
     ]
    },
    {
     "ename": "TypeError",
     "evalue": "unsupported operand type(s) for -: 'NoneType' and 'float'",
     "output_type": "error",
     "traceback": [
      "\u001b[0;31m---------------------------------------------------------------------------\u001b[0m",
      "\u001b[0;31mTypeError\u001b[0m                                 Traceback (most recent call last)",
      "\u001b[0;32m<ipython-input-32-e91a93e0ecfa>\u001b[0m in \u001b[0;36m<module>\u001b[0;34m\u001b[0m\n\u001b[1;32m      4\u001b[0m \u001b[0mY1\u001b[0m \u001b[0;34m=\u001b[0m \u001b[0mnp\u001b[0m\u001b[0;34m.\u001b[0m\u001b[0marray\u001b[0m\u001b[0;34m(\u001b[0m\u001b[0;34m[\u001b[0m\u001b[0;34m[\u001b[0m\u001b[0;36m2.\u001b[0m\u001b[0;34m]\u001b[0m\u001b[0;34m,\u001b[0m \u001b[0;34m[\u001b[0m\u001b[0;36m7.\u001b[0m\u001b[0;34m]\u001b[0m\u001b[0;34m,\u001b[0m \u001b[0;34m[\u001b[0m\u001b[0;36m12.\u001b[0m\u001b[0;34m]\u001b[0m\u001b[0;34m,\u001b[0m \u001b[0;34m[\u001b[0m\u001b[0;36m17.\u001b[0m\u001b[0;34m]\u001b[0m\u001b[0;34m,\u001b[0m \u001b[0;34m[\u001b[0m\u001b[0;36m22.\u001b[0m\u001b[0;34m]\u001b[0m\u001b[0;34m]\u001b[0m\u001b[0;34m)\u001b[0m\u001b[0;34m\u001b[0m\u001b[0;34m\u001b[0m\u001b[0m\n\u001b[1;32m      5\u001b[0m \u001b[0mprint\u001b[0m\u001b[0;34m(\u001b[0m\u001b[0mcost_elem_\u001b[0m\u001b[0;34m(\u001b[0m\u001b[0mtheta1\u001b[0m\u001b[0;34m,\u001b[0m \u001b[0mX1\u001b[0m\u001b[0;34m,\u001b[0m \u001b[0mY1\u001b[0m\u001b[0;34m)\u001b[0m\u001b[0;34m)\u001b[0m\u001b[0;34m\u001b[0m\u001b[0;34m\u001b[0m\u001b[0m\n\u001b[0;32m----> 6\u001b[0;31m \u001b[0mprint\u001b[0m\u001b[0;34m(\u001b[0m\u001b[0mcost_\u001b[0m\u001b[0;34m(\u001b[0m\u001b[0mtheta1\u001b[0m\u001b[0;34m,\u001b[0m \u001b[0mX1\u001b[0m\u001b[0;34m,\u001b[0m \u001b[0mY1\u001b[0m\u001b[0;34m)\u001b[0m\u001b[0;34m)\u001b[0m\u001b[0;34m\u001b[0m\u001b[0;34m\u001b[0m\u001b[0m\n\u001b[0m\u001b[1;32m      7\u001b[0m \u001b[0mX2\u001b[0m \u001b[0;34m=\u001b[0m \u001b[0mnp\u001b[0m\u001b[0;34m.\u001b[0m\u001b[0marray\u001b[0m\u001b[0;34m(\u001b[0m\u001b[0;34m[\u001b[0m\u001b[0;34m[\u001b[0m\u001b[0;36m0.2\u001b[0m\u001b[0;34m,\u001b[0m \u001b[0;36m2.\u001b[0m\u001b[0;34m,\u001b[0m \u001b[0;36m20.\u001b[0m\u001b[0;34m]\u001b[0m\u001b[0;34m,\u001b[0m \u001b[0;34m[\u001b[0m\u001b[0;36m0.4\u001b[0m\u001b[0;34m,\u001b[0m \u001b[0;36m4.\u001b[0m\u001b[0;34m,\u001b[0m \u001b[0;36m40.\u001b[0m\u001b[0;34m]\u001b[0m\u001b[0;34m,\u001b[0m \u001b[0;34m[\u001b[0m\u001b[0;36m0.6\u001b[0m\u001b[0;34m,\u001b[0m \u001b[0;36m6.\u001b[0m\u001b[0;34m,\u001b[0m \u001b[0;36m60.\u001b[0m\u001b[0;34m]\u001b[0m\u001b[0;34m,\u001b[0m \u001b[0;34m[\u001b[0m\u001b[0;36m0.8\u001b[0m\u001b[0;34m,\u001b[0m \u001b[0;36m8.\u001b[0m\u001b[0;34m,\u001b[0m \u001b[0;36m80.\u001b[0m\u001b[0;34m]\u001b[0m\u001b[0;34m]\u001b[0m\u001b[0;34m)\u001b[0m\u001b[0;34m\u001b[0m\u001b[0;34m\u001b[0m\u001b[0m\n\u001b[1;32m      8\u001b[0m \u001b[0mtheta2\u001b[0m \u001b[0;34m=\u001b[0m \u001b[0mnp\u001b[0m\u001b[0;34m.\u001b[0m\u001b[0marray\u001b[0m\u001b[0;34m(\u001b[0m\u001b[0;34m[\u001b[0m\u001b[0;34m[\u001b[0m\u001b[0;36m0.05\u001b[0m\u001b[0;34m]\u001b[0m\u001b[0;34m,\u001b[0m \u001b[0;34m[\u001b[0m\u001b[0;36m1.\u001b[0m\u001b[0;34m]\u001b[0m\u001b[0;34m,\u001b[0m \u001b[0;34m[\u001b[0m\u001b[0;36m1.\u001b[0m\u001b[0;34m]\u001b[0m\u001b[0;34m,\u001b[0m \u001b[0;34m[\u001b[0m\u001b[0;36m1.\u001b[0m\u001b[0;34m]\u001b[0m\u001b[0;34m]\u001b[0m\u001b[0;34m)\u001b[0m\u001b[0;34m\u001b[0m\u001b[0;34m\u001b[0m\u001b[0m\n",
      "\u001b[0;32m<ipython-input-31-488b28341392>\u001b[0m in \u001b[0;36mcost_\u001b[0;34m(theta, X, Y)\u001b[0m\n\u001b[1;32m     13\u001b[0m     \u001b[0mJ_elem\u001b[0m \u001b[0;34m=\u001b[0m \u001b[0mnp\u001b[0m\u001b[0;34m.\u001b[0m\u001b[0mzeros\u001b[0m\u001b[0;34m(\u001b[0m\u001b[0;34m(\u001b[0m\u001b[0mM\u001b[0m\u001b[0;34m,\u001b[0m \u001b[0;36m1\u001b[0m\u001b[0;34m)\u001b[0m\u001b[0;34m)\u001b[0m\u001b[0;34m\u001b[0m\u001b[0;34m\u001b[0m\u001b[0m\n\u001b[1;32m     14\u001b[0m     \u001b[0;32mfor\u001b[0m \u001b[0mi\u001b[0m \u001b[0;32min\u001b[0m \u001b[0mrange\u001b[0m\u001b[0;34m(\u001b[0m\u001b[0mlen\u001b[0m\u001b[0;34m(\u001b[0m\u001b[0mJ_elem\u001b[0m\u001b[0;34m)\u001b[0m\u001b[0;34m)\u001b[0m\u001b[0;34m:\u001b[0m\u001b[0;34m\u001b[0m\u001b[0;34m\u001b[0m\u001b[0m\n\u001b[0;32m---> 15\u001b[0;31m         \u001b[0mJ_elem\u001b[0m\u001b[0;34m[\u001b[0m\u001b[0mi\u001b[0m\u001b[0;34m]\u001b[0m \u001b[0;34m=\u001b[0m \u001b[0;34m(\u001b[0m\u001b[0;36m1\u001b[0m\u001b[0;34m/\u001b[0m\u001b[0;34m(\u001b[0m\u001b[0;36m2\u001b[0m\u001b[0;34m*\u001b[0m\u001b[0mM\u001b[0m\u001b[0;34m)\u001b[0m\u001b[0;34m)\u001b[0m\u001b[0;34m*\u001b[0m\u001b[0;34m(\u001b[0m\u001b[0;34m(\u001b[0m\u001b[0mnp\u001b[0m\u001b[0;34m.\u001b[0m\u001b[0msubtract\u001b[0m\u001b[0;34m(\u001b[0m\u001b[0mpredict_\u001b[0m\u001b[0;34m(\u001b[0m\u001b[0mtheta\u001b[0m\u001b[0;34m,\u001b[0m \u001b[0mX\u001b[0m\u001b[0;34m)\u001b[0m\u001b[0;34m,\u001b[0m \u001b[0mY\u001b[0m\u001b[0;34m)\u001b[0m\u001b[0;34m[\u001b[0m\u001b[0mi\u001b[0m\u001b[0;34m]\u001b[0m\u001b[0;34m)\u001b[0m\u001b[0;34m**\u001b[0m\u001b[0;36m2\u001b[0m\u001b[0;34m)\u001b[0m\u001b[0;34m\u001b[0m\u001b[0;34m\u001b[0m\u001b[0m\n\u001b[0m\u001b[1;32m     16\u001b[0m     \u001b[0mJ_value\u001b[0m \u001b[0;34m=\u001b[0m \u001b[0;36m0.0\u001b[0m\u001b[0;34m\u001b[0m\u001b[0;34m\u001b[0m\u001b[0m\n\u001b[1;32m     17\u001b[0m     \u001b[0;32mreturn\u001b[0m \u001b[0mJ_value\u001b[0m\u001b[0;34m\u001b[0m\u001b[0;34m\u001b[0m\u001b[0m\n",
      "\u001b[0;31mTypeError\u001b[0m: unsupported operand type(s) for -: 'NoneType' and 'float'"
     ]
    }
   ],
   "source": [
    "# Cost function\n",
    "X1 = np.array([[0.], [1.], [2.], [3.], [4.]])\n",
    "theta1 = np.array([[2.], [4.]])\n",
    "Y1 = np.array([[2.], [7.], [12.], [17.], [22.]])\n",
    "print(cost_elem_(theta1, X1, Y1))\n",
    "print(cost_(theta1, X1, Y1))\n",
    "X2 = np.array([[0.2, 2., 20.], [0.4, 4., 40.], [0.6, 6., 60.], [0.8, 8., 80.]])\n",
    "theta2 = np.array([[0.05], [1.], [1.], [1.]])\n",
    "Y2 = np.array([[19.], [42.], [67.], [93.]])\n",
    "print(cost_elem_(theta2, X2, Y2))\n",
    "print(cost_(theta2, X2, Y2))"
   ]
  },
  {
   "cell_type": "code",
   "execution_count": null,
   "metadata": {},
   "outputs": [],
   "source": [
    "#hide\n",
    "from nbdev.showdoc import *"
   ]
  }
 ],
 "metadata": {
  "kernelspec": {
   "display_name": "Python 3",
   "language": "python",
   "name": "python3"
  },
  "language_info": {
   "codemirror_mode": {
    "name": "ipython",
    "version": 3
   },
   "file_extension": ".py",
   "mimetype": "text/x-python",
   "name": "python",
   "nbconvert_exporter": "python",
   "pygments_lexer": "ipython3",
   "version": "3.7.4"
  }
 },
 "nbformat": 4,
 "nbformat_minor": 2
}
