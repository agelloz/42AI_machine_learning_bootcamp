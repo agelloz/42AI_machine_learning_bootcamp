{
 "cells": [
  {
   "cell_type": "code",
   "execution_count": 1,
   "metadata": {},
   "outputs": [],
   "source": [
    "# default_exp core"
   ]
  },
  {
   "cell_type": "markdown",
   "metadata": {},
   "source": [
    "# 42AI Machine Learning Bootcamp\n",
    "\n",
    "> API details."
   ]
  },
  {
   "cell_type": "code",
   "execution_count": 2,
   "metadata": {},
   "outputs": [],
   "source": [
    "import numpy as np"
   ]
  },
  {
   "cell_type": "code",
   "execution_count": 3,
   "metadata": {},
   "outputs": [],
   "source": [
    "def isarray(m):\n",
    "    return isinstance(m, np.ndarray) and m.size > 0"
   ]
  },
  {
   "cell_type": "code",
   "execution_count": 4,
   "metadata": {},
   "outputs": [],
   "source": [
    "def isvector(x):\n",
    "    if not isarray(x):\n",
    "        return None\n",
    "    if x.ndim == 1:\n",
    "        return x\n",
    "    one_dim = -1\n",
    "    big_dims = 0\n",
    "    for d in range(x.ndim):\n",
    "        if x.shape[d] > 1:\n",
    "            one_dim = d\n",
    "            big_dims += 1\n",
    "    if big_dims == 1:\n",
    "        return x.reshape((x.shape[one_dim]))\n",
    "    else:\n",
    "        print(\"Vector false\")\n",
    "        return None"
   ]
  },
  {
   "cell_type": "code",
   "execution_count": 5,
   "metadata": {},
   "outputs": [],
   "source": [
    "def sum_(x, f):\n",
    "    x = isvector(x)\n",
    "    if x is None or not callable(f):\n",
    "        return None\n",
    "    result = 0.0\n",
    "    for element in x:\n",
    "        result += f(element)\n",
    "    return result"
   ]
  },
  {
   "cell_type": "code",
   "execution_count": 6,
   "metadata": {},
   "outputs": [
    {
     "name": "stdout",
     "output_type": "stream",
     "text": [
      "7.0\n",
      "949.0\n"
     ]
    }
   ],
   "source": [
    "# Sum\n",
    "x = np.array([0, 15, -9, 7, 12, 3, -21])\n",
    "print(sum_(x, lambda x: x))\n",
    "print(sum_(x, lambda x: x**2))"
   ]
  },
  {
   "cell_type": "code",
   "execution_count": 7,
   "metadata": {},
   "outputs": [],
   "source": [
    "def mean_(x):\n",
    "    x = isvector(x)\n",
    "    if x is None:\n",
    "        return None\n",
    "    return sum_(x, lambda x: x) / x.size"
   ]
  },
  {
   "cell_type": "code",
   "execution_count": 8,
   "metadata": {},
   "outputs": [
    {
     "name": "stdout",
     "output_type": "stream",
     "text": [
      "1.0\n",
      "135.57142857142858\n"
     ]
    }
   ],
   "source": [
    "# Mean\n",
    "x = np.array([0, 15, -9, 7, 12, 3, -21])\n",
    "print(mean_(x))\n",
    "print(mean_(x ** 2))"
   ]
  },
  {
   "cell_type": "code",
   "execution_count": 9,
   "metadata": {},
   "outputs": [],
   "source": [
    "def variance(x):\n",
    "    x = isvector(x)\n",
    "    if x is None:\n",
    "        return None\n",
    "    return mean_((x - mean_(x))**2)"
   ]
  },
  {
   "cell_type": "code",
   "execution_count": 10,
   "metadata": {},
   "outputs": [
    {
     "name": "stdout",
     "output_type": "stream",
     "text": [
      "134.57142857142858\n",
      "134.57142857142858\n",
      "33.642857142857146\n",
      "33.642857142857146\n"
     ]
    }
   ],
   "source": [
    "# Variance\n",
    "x = np.array([0, 15, -9, 7, 12, 3, -21])\n",
    "print(variance(x))\n",
    "print(np.var(x))\n",
    "\n",
    "print(variance(x/2))\n",
    "print(np.var(x/2))"
   ]
  },
  {
   "cell_type": "code",
   "execution_count": 11,
   "metadata": {},
   "outputs": [],
   "source": [
    "from math import sqrt\n",
    "\n",
    "\n",
    "def std(x):\n",
    "    x = isvector(x)\n",
    "    if x is None:\n",
    "        return None\n",
    "    return sqrt((variance(x)))"
   ]
  },
  {
   "cell_type": "code",
   "execution_count": 12,
   "metadata": {},
   "outputs": [
    {
     "name": "stdout",
     "output_type": "stream",
     "text": [
      "11.600492600378166\n",
      "11.600492600378166\n",
      "11.410700312980492\n",
      "11.410700312980492\n"
     ]
    }
   ],
   "source": [
    "# Standard deviation\n",
    "x = np.array([0, 15, -9, 7, 12, 3, -21])\n",
    "y = np.array([2, 14, -13, 5, 12, 4, -19])\n",
    "\n",
    "print(std(x))\n",
    "print(np.std(x))\n",
    "\n",
    "print(std(y))\n",
    "print(np.std(y))"
   ]
  },
  {
   "cell_type": "code",
   "execution_count": 13,
   "metadata": {},
   "outputs": [],
   "source": [
    "def dot(x, y):\n",
    "    x = isvector(x)\n",
    "    y = isvector(y)\n",
    "    if x is None or y is None:\n",
    "        return None\n",
    "    result = 0\n",
    "    for i in range(x.size):\n",
    "        result += x[i] * y[i]\n",
    "    return result"
   ]
  },
  {
   "cell_type": "code",
   "execution_count": 14,
   "metadata": {},
   "outputs": [
    {
     "name": "stdout",
     "output_type": "stream",
     "text": [
      "917\n",
      "917\n",
      "949\n",
      "949\n",
      "915\n",
      "915\n"
     ]
    }
   ],
   "source": [
    "# Dot product\n",
    "x = np.array([0, 15, -9, 7, 12, 3, -21])\n",
    "y = np.array([2, 14, -13, 5, 12, 4, -19])\n",
    "\n",
    "print(dot(x, y))\n",
    "print(np.dot(x, y))\n",
    "\n",
    "print(dot(x, x))\n",
    "print(np.dot(x, x))\n",
    "\n",
    "print(dot(y, y))\n",
    "print(np.dot(y, y))"
   ]
  },
  {
   "cell_type": "code",
   "execution_count": 15,
   "metadata": {},
   "outputs": [],
   "source": [
    "def mat_vec_prod(m, x):\n",
    "    x = isvector(x)\n",
    "    if not isarray(m) or x is None or m.shape[1] != x.size:\n",
    "        print(\"Error: mat_vec_prod\")\n",
    "        return None\n",
    "    result = np.array([], dtype='int')\n",
    "    for row in m:\n",
    "        result = np.append(result, dot(x, row))\n",
    "    return result"
   ]
  },
  {
   "cell_type": "code",
   "execution_count": 16,
   "metadata": {},
   "outputs": [
    {
     "name": "stdout",
     "output_type": "stream",
     "text": [
      "[ 497 -356 -345 -270  -69]\n",
      "[ 497 -356 -345 -270  -69]\n",
      "[ 452 -285 -333 -182 -133]\n",
      "[ 452 -285 -333 -182 -133]\n"
     ]
    }
   ],
   "source": [
    "# Matrix-vector product\n",
    "m = np.array([\n",
    "    [-8, 8, -6, 14, 14, -9, -4],\n",
    "    [2, -11, -2, -11, 14, -2, 14],\n",
    "    [-13, -2, -5, 3, -8, -4, 13],\n",
    "    [2, 13, -14, -15, -14, -15, 13],\n",
    "    [2, -1, 12, 3, -7, -3, -6]])\n",
    "x = np.array([0, 15, -9, 7, 12, 3, -21])\n",
    "y = np.array([2, 14, -13, 5, 12, 4, -19])\n",
    "\n",
    "print(mat_vec_prod(m, x))\n",
    "print(m.dot(x))\n",
    "\n",
    "print(mat_vec_prod(m, y))\n",
    "print(m.dot(y))"
   ]
  },
  {
   "cell_type": "code",
   "execution_count": 17,
   "metadata": {},
   "outputs": [],
   "source": [
    "def mat_mat_prod(m1, m2):\n",
    "    if not isarray(m1) or not isarray(m2) or m1.shape[1] != m2.shape[0]:\n",
    "        return None\n",
    "    result = np.zeros((m1.shape[0], m2.shape[1]), dtype='int')\n",
    "    for column in range(m2.shape[1]):\n",
    "        result[:, column] = list(mat_vec_prod(m1, np.array(m2[:, column])))\n",
    "    return result"
   ]
  },
  {
   "cell_type": "code",
   "execution_count": 18,
   "metadata": {},
   "outputs": [
    {
     "name": "stdout",
     "output_type": "stream",
     "text": [
      "[[  45  414   -3 -202 -163]\n",
      " [-294 -244 -367  -79   62]\n",
      " [-107  140   13 -115  385]\n",
      " [-302  222 -302 -412  447]\n",
      " [ 108  -33  118   79  -67]]\n",
      "[[  45  414   -3 -202 -163]\n",
      " [-294 -244 -367  -79   62]\n",
      " [-107  140   13 -115  385]\n",
      " [-302  222 -302 -412  447]\n",
      " [ 108  -33  118   79  -67]]\n",
      "[[ 148   78 -116 -226  -76    7   45]\n",
      " [ -88 -108  -30  174  364  109  -42]\n",
      " [-126  232 -186  184  -51  -42  -92]\n",
      " [ -81  -49 -227 -208  112 -176  390]\n",
      " [  70    3  -60   13  162  149 -110]\n",
      " [-207  371 -323  106 -261 -248   83]\n",
      " [ 200  -53  226  -49 -102  156 -225]]\n",
      "[[ 148   78 -116 -226  -76    7   45]\n",
      " [ -88 -108  -30  174  364  109  -42]\n",
      " [-126  232 -186  184  -51  -42  -92]\n",
      " [ -81  -49 -227 -208  112 -176  390]\n",
      " [  70    3  -60   13  162  149 -110]\n",
      " [-207  371 -323  106 -261 -248   83]\n",
      " [ 200  -53  226  -49 -102  156 -225]]\n"
     ]
    }
   ],
   "source": [
    "# Matrix-matrix product\n",
    "m1 = np.array([\n",
    "    [-8, 8, -6, 14, 14, -9, -4],\n",
    "    [2, -11, -2, -11, 14, -2, 14],\n",
    "    [-13, -2, -5, 3, -8, -4, 13],\n",
    "    [2, 13, -14, -15, -14, -15, 13],\n",
    "    [2, -1, 12, 3, -7, -3, -6]])\n",
    "m2 = np.array([\n",
    "    [-6, -1, -8, 7, -8],\n",
    "    [7, 4, 0, -10, -10],\n",
    "    [7, -13, 2, 2, -11],\n",
    "    [3, 14, 7, 7, -4],\n",
    "    [-1, -3, -8, -4, -14],\n",
    "    [9, -14, 9, 12, -7],\n",
    "    [-9, -4, -10, -3, 6]])\n",
    "\n",
    "print(mat_mat_prod(m1, m2))\n",
    "print(m1.dot(m2))\n",
    "print(mat_mat_prod(m2, m1))\n",
    "print(m2.dot(m1))"
   ]
  },
  {
   "cell_type": "code",
   "execution_count": 19,
   "metadata": {},
   "outputs": [],
   "source": [
    "def mse(x, y):\n",
    "    x = isvector(x)\n",
    "    y = isvector(y)\n",
    "    if x is None or y is None or x.size != y.size:\n",
    "        print(\"Error mse\")\n",
    "        return None\n",
    "    return mean_(np.subtract(x, y)**2)"
   ]
  },
  {
   "cell_type": "code",
   "execution_count": 20,
   "metadata": {},
   "outputs": [
    {
     "name": "stdout",
     "output_type": "stream",
     "text": [
      "4.285714285714286\n",
      "0.0\n"
     ]
    }
   ],
   "source": [
    "# Mean squared error\n",
    "x = np.array([0, 15, -9, 7, 12, 3, -21])\n",
    "y = np.array([2, 14, -13, 5, 12, 4, -19])\n",
    "print(mse(x, y))\n",
    "print(mse(x, x))"
   ]
  },
  {
   "cell_type": "code",
   "execution_count": 21,
   "metadata": {},
   "outputs": [],
   "source": [
    "def vec_mse(y, y_hat):\n",
    "    y = isvector(y)\n",
    "    y_hat = isvector(y_hat)\n",
    "    if y is None or y_hat is None or y.size != y_hat.size:\n",
    "        return None\n",
    "    return dot(np.subtract(y_hat, y), np.subtract(y_hat, y)) / y.size"
   ]
  },
  {
   "cell_type": "code",
   "execution_count": 22,
   "metadata": {},
   "outputs": [
    {
     "name": "stdout",
     "output_type": "stream",
     "text": [
      "4.285714285714286\n",
      "0.0\n"
     ]
    }
   ],
   "source": [
    "# Vectorized Mean Squared Error\n",
    "print(vec_mse(x, y))\n",
    "print(vec_mse(x, x))"
   ]
  },
  {
   "cell_type": "code",
   "execution_count": 23,
   "metadata": {},
   "outputs": [],
   "source": [
    "def linear_mse(m, y, theta):\n",
    "    y = isvector(y)\n",
    "    theta = isvector(theta)\n",
    "    if (not isarray(m) or y is None or theta is None\n",
    "            or m.shape[0] != y.size or m.shape[1] != theta.size):\n",
    "        print(\"Error linear mse\")\n",
    "        return None\n",
    "    h = np.zeros(m.shape[0])\n",
    "    for row in range(m.shape[0]):\n",
    "        h[row] = dot(m[row], theta)\n",
    "    return mse(y, h)"
   ]
  },
  {
   "cell_type": "code",
   "execution_count": 24,
   "metadata": {},
   "outputs": [
    {
     "name": "stdout",
     "output_type": "stream",
     "text": [
      "2641.0\n",
      "130.71428571428572\n"
     ]
    }
   ],
   "source": [
    "# Mean squared error as linear cost function\n",
    "m = np.array([\n",
    "    [-6, -7, -9],\n",
    "    [13, -2, 14],\n",
    "    [-7, 14, -1],\n",
    "    [-8, -4, 6],\n",
    "    [-5, -9, 6],\n",
    "    [1, -5, 11],\n",
    "    [9, -11, 8]])\n",
    "y = np.array([2, 14, -13, 5, 12, 4, -19])\n",
    "theta1 = np.array([3, 0.5, -6])\n",
    "theta2 = np.array([0, 0, 0])\n",
    "\n",
    "print(linear_mse(m, y, theta1))\n",
    "print(linear_mse(m, y, theta2))"
   ]
  },
  {
   "cell_type": "code",
   "execution_count": 25,
   "metadata": {},
   "outputs": [],
   "source": [
    "def vec_linear_mse(m, y, theta):\n",
    "    y = isvector(y)\n",
    "    theta = isvector(theta)\n",
    "    if (not isarray(m) or y is None or theta is None\n",
    "            or m.shape[0] != y.size or m.shape[1] != theta.size):\n",
    "        print(\"Error vec linear mse\")\n",
    "        return None\n",
    "    h = np.zeros(m.shape[0])\n",
    "    for row in range(m.shape[0]):\n",
    "        h[row] = dot(m[row], theta)\n",
    "    return dot(np.subtract(y, h), np.subtract(y, h)) / y.size"
   ]
  },
  {
   "cell_type": "code",
   "execution_count": 26,
   "metadata": {},
   "outputs": [
    {
     "name": "stdout",
     "output_type": "stream",
     "text": [
      "2641.0\n",
      "130.71428571428572\n"
     ]
    }
   ],
   "source": [
    "# Vectorized Mean squared error as linear cost function\n",
    "print(vec_linear_mse(m, y, theta1))\n",
    "print(vec_linear_mse(m, y, theta2))"
   ]
  },
  {
   "cell_type": "code",
   "execution_count": 27,
   "metadata": {},
   "outputs": [],
   "source": [
    "def gradient(m, y, theta):\n",
    "    y = isvector(y)\n",
    "    theta = isvector(theta)\n",
    "    if (not isarray(m) or y is None or theta is None\n",
    "            or m.shape[0] != y.size or m.shape[1] != theta.size):\n",
    "        return None\n",
    "    training_examples = m.shape[0]\n",
    "    features = m.shape[1]\n",
    "    h = np.zeros(training_examples)\n",
    "    for row in range(training_examples):\n",
    "        h[row] = dot(m[row], theta)\n",
    "    result = np.zeros(features)\n",
    "    for column in range(features):\n",
    "        for row in range(training_examples):\n",
    "            result[column] += (h[row] - y[row]) * m[row][column] / training_examples\n",
    "    return result"
   ]
  },
  {
   "cell_type": "code",
   "execution_count": 28,
   "metadata": {},
   "outputs": [
    {
     "name": "stdout",
     "output_type": "stream",
     "text": [
      "[ -37.35714286  183.14285714 -393.        ]\n",
      "[  0.85714286  23.28571429 -26.42857143]\n",
      "[0. 0. 0.]\n"
     ]
    }
   ],
   "source": [
    "# Linear Gradient - iterative version\n",
    "print(gradient(m, y, theta1))\n",
    "print(gradient(m, y, theta2))\n",
    "print(gradient(m, m.dot(theta1), theta1))"
   ]
  },
  {
   "cell_type": "code",
   "execution_count": 29,
   "metadata": {},
   "outputs": [],
   "source": [
    "def vec_gradient(m, y, theta):\n",
    "    y = isvector(y)\n",
    "    theta = isvector(theta)\n",
    "    if (not isarray(m) or y is None or theta is None\n",
    "            or m.shape[0] != y.size or m.shape[1] != theta.size):\n",
    "        return None\n",
    "    h = np.zeros(m.shape[0])\n",
    "    for row in range(m.shape[0]):\n",
    "        h[row] = dot(m[row], theta)\n",
    "    result = mat_vec_prod(m.transpose(), np.subtract(h, y)) / m.shape[0]\n",
    "    return result.reshape(m.shape[1])"
   ]
  },
  {
   "cell_type": "code",
   "execution_count": 30,
   "metadata": {},
   "outputs": [
    {
     "name": "stdout",
     "output_type": "stream",
     "text": [
      "[ -37.35714286  183.14285714 -393.        ]\n",
      "[  0.85714286  23.28571429 -26.42857143]\n",
      "[0. 0. 0.]\n"
     ]
    }
   ],
   "source": [
    "# Linear Gradient - vectorized version\n",
    "print(vec_gradient(m, y, theta1))\n",
    "print(vec_gradient(m, y, theta2))\n",
    "print(vec_gradient(m, m.dot(theta1), theta1))"
   ]
  },
  {
   "cell_type": "code",
   "execution_count": 31,
   "metadata": {},
   "outputs": [],
   "source": [
    "def predict_(theta, m):\n",
    "    theta = isvector(theta)\n",
    "    if not isarray(m) or theta is None:\n",
    "        return None\n",
    "    if theta.size - 1 != m.shape[1]:\n",
    "        print(\"Incompatible dimension match between X and theta.\")\n",
    "        return None\n",
    "    m = np.insert(m, 0, 1, axis=1)\n",
    "    return mat_vec_prod(m, theta)"
   ]
  },
  {
   "cell_type": "code",
   "execution_count": 32,
   "metadata": {},
   "outputs": [
    {
     "name": "stdout",
     "output_type": "stream",
     "text": [
      "[ 2.  6. 10. 14. 18.]\n",
      "Incompatible dimension match between X and theta.\n",
      "None\n",
      "[22.25 44.45 66.65 88.85]\n"
     ]
    }
   ],
   "source": [
    "# Hypothesis function\n",
    "m1 = np.array([[0.], [1.], [2.], [3.], [4.]])\n",
    "theta1 = np.array([2., 4.])\n",
    "print(predict_(theta1, m1))\n",
    "m2 = np.array([[1], [2], [3], [5], [8]])\n",
    "theta2 = np.array([2.])\n",
    "print(predict_(theta2, m2))\n",
    "m3 = np.array([[0.2, 2., 20.], [0.4, 4., 40.], [0.6, 6., 60.], [0.8, 8., 80.]])\n",
    "theta3 = np.array([0.05, 1., 1., 1.])\n",
    "print(predict_(theta3, m3))"
   ]
  },
  {
   "cell_type": "code",
   "execution_count": 33,
   "metadata": {},
   "outputs": [],
   "source": [
    "def cost_elem_(theta, m, y):\n",
    "    y = isvector(y)\n",
    "    theta = isvector(theta)\n",
    "    if (not isarray(m) or y is None or theta is None or m.shape[0] != y.size or m.shape[1] + 1 != theta.size):\n",
    "        print(\"Error cost elem\")\n",
    "        return None\n",
    "    M = m.shape[0]\n",
    "    y_hat = predict_(theta, m)\n",
    "    J_elem = np.zeros(M)\n",
    "    for i in range(len(J_elem)):\n",
    "        J_elem[i] = (1/(2*M))*((np.subtract(y_hat, y)[i])**2)\n",
    "    return J_elem\n",
    "\n",
    "def cost_(theta, m, y):\n",
    "    y = isvector(y)\n",
    "    theta = isvector(theta)\n",
    "    if (not isarray(m) or y is None or theta is None or m.shape[0] != y.size or m.shape[1] + 1 != theta.size):\n",
    "        print(\"Error cost\")\n",
    "        return None\n",
    "    M = m.shape[0]\n",
    "    J_elem = np.zeros(M)\n",
    "    y_hat = predict_(theta, m)\n",
    "    for i in range(M):\n",
    "        J_elem[i] = (1/(2*M))*((np.subtract(y_hat, y)[i])**2)\n",
    "    J_value = sum_(J_elem, lambda x : x)\n",
    "    return J_value"
   ]
  },
  {
   "cell_type": "code",
   "execution_count": 34,
   "metadata": {},
   "outputs": [
    {
     "name": "stdout",
     "output_type": "stream",
     "text": [
      "[0.  0.1 0.4 0.9 1.6]\n",
      "3.0\n",
      "[1.3203125 0.7503125 0.0153125 2.1528125]\n",
      "4.238750000000007\n"
     ]
    }
   ],
   "source": [
    "# Cost function\n",
    "m1 = np.array([[0.], [1.], [2.], [3.], [4.]])\n",
    "theta1 = np.array([2., 4.])\n",
    "y1 = np.array([2., 7., 12., 17., 22.])\n",
    "print(cost_elem_(theta1, m1, y1))\n",
    "print(cost_(theta1, m1, y1))\n",
    "\n",
    "m2 = np.array([[0.2, 2., 20.], [0.4, 4., 40.], [0.6, 6., 60.], [0.8, 8., 80.]])\n",
    "theta2 = np.array([0.05, 1., 1., 1.])\n",
    "y2 = np.array([19., 42., 67., 93.])\n",
    "print(cost_elem_(theta2, m2, y2))\n",
    "print(cost_(theta2, m2, y2))"
   ]
  },
  {
   "cell_type": "code",
   "execution_count": 47,
   "metadata": {},
   "outputs": [],
   "source": [
    "def fit_(theta, m, y, alpha, n_cycle):\n",
    "    y = isvector(y)\n",
    "    theta = isvector(theta)\n",
    "    if (not isarray(m) or y is None or theta is None\n",
    "            or m.shape[0] != y.size or m.shape[1] + 1 != theta.size):\n",
    "        print(\"Error fit\")\n",
    "        return None\n",
    "    mWithx0 = np.insert(m, 0, 1, axis=1)\n",
    "    previous_cost = cost_(theta, m, y)\n",
    "    n = 0\n",
    "    while cost_(theta, m, y) <= previous_cost and n < n_cycle:\n",
    "        previous_cost = cost_(theta, m, y)\n",
    "        for i in range(theta.size):\n",
    "            theta[i] -= alpha*gradient(mWithx0, y, theta)[i]\n",
    "        n += 1\n",
    "        #print(cost_(new_theta, m, y))\n",
    "    return theta"
   ]
  },
  {
   "cell_type": "code",
   "execution_count": 55,
   "metadata": {},
   "outputs": [
    {
     "name": "stdout",
     "output_type": "stream",
     "text": [
      "Cost before: 33.5\n",
      "Cost after: 2.8579884383796814e-09\n",
      "[2.00013063 3.9999543 ]\n",
      "[ 2.00013063  6.00008493 10.00003923 13.99999353 17.99994783]\n",
      "Cost before: 7459.35\n",
      "Cost after: 1.0594601970400939e-07\n",
      "[41.99887246  0.97758702  0.77590381 -1.20734746]\n",
      "[ 19.59924829  -2.80037587 -25.20000003 -47.59962419]\n"
     ]
    }
   ],
   "source": [
    "m1 = np.array([[0.], [1.], [2.], [3.], [4.]])\n",
    "y1 = np.array([2., 6., 10., 14., 18.])\n",
    "theta1 = np.array([1., 1.])\n",
    "print(\"Cost before: \" + str(cost_(theta1, m1, y1)))\n",
    "theta1 = fit_(theta1, m1, y1, alpha=0.01, n_cycle=2000)\n",
    "print(\"Cost after: \" + str(cost_(theta1, m1, y1)))\n",
    "print(theta1)\n",
    "#array([[2.0023..],[3.9991..]])\n",
    "print(predict_(theta1, m1))\n",
    "#array([2.0023..], [6.002..], [10.0007..], [13.99988..], [17.9990..])\n",
    "\n",
    "m2 = np.array([[0.2, 2., 20.], [0.4, 4., 40.], [0.6, 6., 60.], [0.8, 8., 80.]])\n",
    "y2 = np.array([19.6, -2.8, -25.2, -47.6])\n",
    "theta2 = np.array([42., 1., 1., 1.])\n",
    "print(\"Cost before: \" + str(cost_(theta2, m2, y2)))\n",
    "theta2 = fit_(theta2, m2, y2, alpha=0.0005, n_cycle=42000)\n",
    "print(\"Cost after: \" + str(cost_(theta2, m2, y2)))\n",
    "print(theta2)\n",
    "#array([[41.99..],[0.97..], [0.77..], [-1.20..]])\n",
    "print(predict_(theta2, m2))\n",
    "#array([[19.5937..], [-2.8021..], [-25.1999..], [-47.5978..]])"
   ]
  },
  {
   "cell_type": "code",
   "execution_count": 40,
   "metadata": {},
   "outputs": [],
   "source": [
    "#hide\n",
    "from nbdev.showdoc import *"
   ]
  }
 ],
 "metadata": {
  "kernelspec": {
   "display_name": "Python 3",
   "language": "python",
   "name": "python3"
  },
  "language_info": {
   "codemirror_mode": {
    "name": "ipython",
    "version": 3
   },
   "file_extension": ".py",
   "mimetype": "text/x-python",
   "name": "python",
   "nbconvert_exporter": "python",
   "pygments_lexer": "ipython3",
   "version": "3.7.4"
  }
 },
 "nbformat": 4,
 "nbformat_minor": 2
}
